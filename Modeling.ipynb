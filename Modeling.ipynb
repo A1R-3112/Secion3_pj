{
 "cells": [
  {
   "cell_type": "markdown",
   "id": "dc8223cf",
   "metadata": {},
   "source": [
    "## Modeling"
   ]
  },
  {
   "cell_type": "code",
   "execution_count": 1,
   "id": "d1448297",
   "metadata": {
    "ExecuteTime": {
     "end_time": "2022-11-03T06:19:52.367384Z",
     "start_time": "2022-11-03T06:19:45.696450Z"
    }
   },
   "outputs": [],
   "source": [
    "import re\n",
    "import time\n",
    "import matplotlib.pyplot as plt\n",
    "from pymongo import MongoClient\n",
    "import pandas as pd\n",
    "import numpy as np\n",
    "import warnings\n",
    "import random\n",
    "import sqlite3\n",
    "from sklearn.model_selection import train_test_split\n",
    "import xgboost as xg\n",
    "from sklearn.pipeline import Pipeline\n",
    "from category_encoders import OrdinalEncoder\n",
    "from sklearn.preprocessing import LabelEncoder\n",
    "import shap\n",
    "\n",
    "warnings.filterwarnings('ignore')"
   ]
  },
  {
   "cell_type": "code",
   "execution_count": 2,
   "id": "cb384370",
   "metadata": {
    "ExecuteTime": {
     "end_time": "2022-11-03T06:19:52.470118Z",
     "start_time": "2022-11-03T06:19:52.372160Z"
    }
   },
   "outputs": [],
   "source": [
    "# SQL에서 데이터 가져오기\n",
    "import os\n",
    "url = os.path.join(os.getcwd(), 'flask_app/database/monitor.db')\n",
    "\n",
    "conn = sqlite3.connect(url)\n",
    "cur = conn.cursor()\n",
    "\n",
    "query = \"SELECT * FROM Monitor\"\n",
    "df = pd.read_sql(query, conn).drop('index', axis = 1)"
   ]
  },
  {
   "cell_type": "code",
   "execution_count": 3,
   "id": "219be7c1",
   "metadata": {
    "ExecuteTime": {
     "end_time": "2022-11-03T06:19:52.521957Z",
     "start_time": "2022-11-03T06:19:52.476755Z"
    }
   },
   "outputs": [
    {
     "name": "stdout",
     "output_type": "stream",
     "text": [
      "<class 'pandas.core.frame.DataFrame'>\n",
      "RangeIndex: 5116 entries, 0 to 5115\n",
      "Data columns (total 8 columns):\n",
      " #   Column  Non-Null Count  Dtype  \n",
      "---  ------  --------------  -----  \n",
      " 0   상품명     5116 non-null   object \n",
      " 1   화면크기    5116 non-null   object \n",
      " 2   최대 해상도  5116 non-null   object \n",
      " 3   최대 주사율  5116 non-null   int64  \n",
      " 4   패널      5116 non-null   object \n",
      " 5   곡면형     5116 non-null   object \n",
      " 6   응답속도    5116 non-null   float64\n",
      " 7   별점      5116 non-null   float64\n",
      "dtypes: float64(2), int64(1), object(5)\n",
      "memory usage: 319.9+ KB\n"
     ]
    }
   ],
   "source": [
    "df.info()"
   ]
  },
  {
   "cell_type": "code",
   "execution_count": 4,
   "id": "c101f4da",
   "metadata": {
    "ExecuteTime": {
     "end_time": "2022-11-03T06:19:52.613792Z",
     "start_time": "2022-11-03T06:19:52.530489Z"
    }
   },
   "outputs": [],
   "source": [
    "idx = {}\n",
    "\n",
    "idx['idx_12'] = list(df[(df['최대 해상도'] == 'UHD') & (df['최대 주사율'] >= 144) & (df['응답속도'] <= 0.1)].index)\n",
    "idx['idx_11'] = list(df[(df['최대 해상도'] == 'UHD') & (df['최대 주사율'] >= 144) & (df['응답속도'] > 0.1)].index)\n",
    "idx['idx_10'] = list(df[(df['최대 해상도'] == 'UHD') & (df['최대 주사율'] < 144) & (df['응답속도'] <= 0.1)].index)\n",
    "idx['idx_9'] = list(df[(df['최대 해상도'] == 'UHD') & (df['최대 주사율'] < 144) & (df['응답속도'] > 0.1)].index)\n",
    "\n",
    "idx['idx_8'] = list(df[(df['최대 해상도'] == 'QHD') & (df['최대 주사율'] >= 144) & (df['응답속도'] <= 0.1)].index)\n",
    "idx['idx_7'] = list(df[(df['최대 해상도'] == 'QHD') & (df['최대 주사율'] >= 144) & (df['응답속도'] > 0.1)].index)\n",
    "idx['idx_6'] = list(df[(df['최대 해상도'] == 'QHD') & (df['최대 주사율'] < 144) & (df['응답속도'] <= 0.1)].index)\n",
    "idx['idx_5'] = list(df[(df['최대 해상도'] == 'QHD') & (df['최대 주사율'] < 144) & (df['응답속도'] > 0.1)].index)\n",
    "\n",
    "idx['idx_4'] = list(df[(df['최대 해상도'] == 'FHD') & (df['최대 주사율'] >= 144) & (df['응답속도'] <= 0.1)].index)\n",
    "idx['idx_3'] = list(df[(df['최대 해상도'] == 'FHD') & (df['최대 주사율'] >= 144) & (df['응답속도'] > 0.1)].index)\n",
    "idx['idx_2'] = list(df[(df['최대 해상도'] == 'FHD') & (df['최대 주사율'] < 144) & (df['응답속도'] <= 0.1)].index)\n",
    "idx['idx_1'] = list(df[(df['최대 해상도'] == 'FHD') & (df['최대 주사율'] < 144) & (df['응답속도'] > 0.1)].index)\n",
    "\n"
   ]
  },
  {
   "cell_type": "code",
   "execution_count": 5,
   "id": "d9fe06a2",
   "metadata": {
    "ExecuteTime": {
     "end_time": "2022-11-03T06:19:52.656728Z",
     "start_time": "2022-11-03T06:19:52.620492Z"
    }
   },
   "outputs": [],
   "source": [
    "i=12\n",
    "for value in idx.values():\n",
    "    df.loc[value, '성능점수'] = [i] * len(value)\n",
    "    i -= 1\n",
    "\n",
    "df['성능점수'] = df['성능점수'].astype(int)"
   ]
  },
  {
   "cell_type": "code",
   "execution_count": 7,
   "id": "1e886516",
   "metadata": {
    "ExecuteTime": {
     "end_time": "2022-11-03T06:21:18.479864Z",
     "start_time": "2022-11-03T06:21:18.419576Z"
    }
   },
   "outputs": [],
   "source": [
    "df.to_csv('/Users/kwanhoonseo/Desktop/sc3_pj/monitor.csv', sep = ',', index = False)"
   ]
  },
  {
   "cell_type": "code",
   "execution_count": 8,
   "id": "11437729",
   "metadata": {
    "ExecuteTime": {
     "end_time": "2022-11-03T06:23:20.145587Z",
     "start_time": "2022-11-03T06:23:18.414395Z"
    }
   },
   "outputs": [],
   "source": [
    "import psycopg2\n",
    "\n",
    "conn = psycopg2.connect(\n",
    "    host = \"peanut.db.elephantsql.com\",\n",
    "    database = \"pblabcdk\",\n",
    "    user = \"pblabcdk\",\n",
    "    password = \"HPGjhgcQnKL8_30d3RqYF574gmNSWDUj\"\n",
    ")\n",
    "\n",
    "cur = conn.cursor()"
   ]
  },
  {
   "cell_type": "code",
   "execution_count": 18,
   "id": "bb9566fd",
   "metadata": {
    "ExecuteTime": {
     "end_time": "2022-11-03T05:07:12.208214Z",
     "start_time": "2022-11-03T05:07:12.115668Z"
    }
   },
   "outputs": [],
   "source": [
    "# 성능점수가 포함된 데이터프레임 저장\n",
    "\"\"\"\n",
    "con = sqlite3.connect('/Users/kwanhoonseo/Desktop/sc3_pj/monitor.db')\n",
    "df.to_sql('Monitor_score', con)\n",
    "\"\"\""
   ]
  },
  {
   "cell_type": "code",
   "execution_count": 19,
   "id": "2881ec7f",
   "metadata": {
    "ExecuteTime": {
     "end_time": "2022-11-03T05:07:13.661576Z",
     "start_time": "2022-11-03T05:07:13.609847Z"
    }
   },
   "outputs": [],
   "source": [
    "df_md = df.drop(['상품명', '별점'], 1)\n",
    "le = LabelEncoder()\n",
    "train, test = train_test_split(df_md, test_size = 0.2, random_state = 42)\n",
    "target = ['성능점수']\n",
    "\n",
    "X_train, y_train = train.drop(target, 1), train[target]\n",
    "X_test, y_test = test.drop(target, 1), test[target]\n",
    "\n",
    "y_train = le.fit_transform(y_train)\n",
    "y_test = le.transform(y_test)"
   ]
  },
  {
   "cell_type": "code",
   "execution_count": 20,
   "id": "87b37104",
   "metadata": {
    "ExecuteTime": {
     "end_time": "2022-11-03T05:07:14.350940Z",
     "start_time": "2022-11-03T05:07:14.335580Z"
    }
   },
   "outputs": [],
   "source": [
    "pipe = Pipeline(\n",
    "    steps = [\n",
    "        ('ord', OrdinalEncoder()),\n",
    "        ('xgbc', xg.XGBClassifier(\n",
    "            objective='multi:softmax',\n",
    "            eval_metric = 'merror',\n",
    "            num_class = 12,\n",
    "            random_state = 2,\n",
    "            n_estimators = 200,\n",
    "            n_jobs = -1,\n",
    "            max_depth = 7,\n",
    "            learning_rate = 0.1\n",
    "        ))\n",
    "    ]\n",
    ")"
   ]
  },
  {
   "cell_type": "code",
   "execution_count": 21,
   "id": "bd8f5fdd",
   "metadata": {
    "ExecuteTime": {
     "end_time": "2022-11-03T05:07:20.902051Z",
     "start_time": "2022-11-03T05:07:16.430559Z"
    },
    "collapsed": true
   },
   "outputs": [
    {
     "data": {
      "text/plain": [
       "Pipeline(steps=[('ord',\n",
       "                 OrdinalEncoder(cols=['화면크기', '최대 해상도', '패널', '곡면형'],\n",
       "                                mapping=[{'col': '화면크기',\n",
       "                                          'data_type': dtype('O'),\n",
       "                                          'mapping': 32     1\n",
       "27     2\n",
       "NaN   -2\n",
       "dtype: int64},\n",
       "                                         {'col': '최대 해상도',\n",
       "                                          'data_type': dtype('O'),\n",
       "                                          'mapping': FHD    1\n",
       "UHD    2\n",
       "QHD    3\n",
       "NaN   -2\n",
       "dtype: int64},\n",
       "                                         {'col': '패널', 'data_type': dtype('O'),\n",
       "                                          'mapping': VA     1\n",
       "IPS    2\n",
       "TN     3\n",
       "NaN   -2\n",
       "dtype: int64},\n",
       "                                         {'col': '곡면형', 'data_type': dtype('O'),\n",
       "                                          'mapping': 평면...\n",
       "                               gamma=0, gpu_id=-1, grow_policy='depthwise',\n",
       "                               importance_type=None, interaction_constraints='',\n",
       "                               learning_rate=0.1, max_bin=256,\n",
       "                               max_cat_to_onehot=4, max_delta_step=0,\n",
       "                               max_depth=7, max_leaves=0, min_child_weight=1,\n",
       "                               missing=nan, monotone_constraints='()',\n",
       "                               n_estimators=200, n_jobs=-1, num_class=12,\n",
       "                               num_parallel_tree=1, objective='multi:softmax',\n",
       "                               predictor='auto', random_state=2, ...))])"
      ]
     },
     "execution_count": 21,
     "metadata": {},
     "output_type": "execute_result"
    }
   ],
   "source": [
    "pipe.fit(X_train, y_train)"
   ]
  },
  {
   "cell_type": "code",
   "execution_count": 9,
   "id": "12f37d1f",
   "metadata": {
    "ExecuteTime": {
     "end_time": "2022-11-03T05:04:00.398342Z",
     "start_time": "2022-11-03T05:04:00.250446Z"
    }
   },
   "outputs": [
    {
     "data": {
      "text/plain": [
       "화면크기       32\n",
       "최대 해상도    FHD\n",
       "최대 주사율     75\n",
       "패널         VA\n",
       "곡면형        평면\n",
       "응답속도      0.4\n",
       "Name: 0, dtype: object"
      ]
     },
     "execution_count": 9,
     "metadata": {},
     "output_type": "execute_result"
    }
   ],
   "source": [
    "insert = pd.DataFrame(columns = ['화면크기', '최대 해상도', '최대 주사율', '패널', '곡면형', '응답속도'])\n",
    "X_test = ['32', 'FHD', 75, 'VA', '평면', 0.4]\n",
    "\n",
    "for i in range(6):\n",
    "    insert.loc[0, insert.columns[i]] = X_test[i]\n",
    "\n",
    "insert.iloc[0]"
   ]
  },
  {
   "cell_type": "code",
   "execution_count": 10,
   "id": "e0284b5a",
   "metadata": {
    "ExecuteTime": {
     "end_time": "2022-11-03T05:04:09.288657Z",
     "start_time": "2022-11-03T05:04:09.119662Z"
    },
    "collapsed": true
   },
   "outputs": [
    {
     "ename": "NameError",
     "evalue": "name 'le' is not defined",
     "output_type": "error",
     "traceback": [
      "\u001b[0;31m---------------------------------------------------------------------------\u001b[0m",
      "\u001b[0;31mNameError\u001b[0m                                 Traceback (most recent call last)",
      "\u001b[0;32m/var/folders/80/7ws5z_vs5fd6t7t20qf08bvw0000gn/T/ipykernel_64243/2940588673.py\u001b[0m in \u001b[0;36m<module>\u001b[0;34m\u001b[0m\n\u001b[0;32m----> 1\u001b[0;31m \u001b[0mscore\u001b[0m \u001b[0;34m=\u001b[0m \u001b[0mle\u001b[0m\u001b[0;34m.\u001b[0m\u001b[0minverse_transform\u001b[0m\u001b[0;34m(\u001b[0m\u001b[0mpipe\u001b[0m\u001b[0;34m.\u001b[0m\u001b[0mpredict\u001b[0m\u001b[0;34m(\u001b[0m\u001b[0;34m[\u001b[0m\u001b[0mX_test\u001b[0m\u001b[0;34m.\u001b[0m\u001b[0miloc\u001b[0m\u001b[0;34m[\u001b[0m\u001b[0;36m0\u001b[0m\u001b[0;34m]\u001b[0m\u001b[0;34m]\u001b[0m\u001b[0;34m)\u001b[0m\u001b[0;34m)\u001b[0m\u001b[0;34m[\u001b[0m\u001b[0;36m0\u001b[0m\u001b[0;34m]\u001b[0m\u001b[0;34m\u001b[0m\u001b[0;34m\u001b[0m\u001b[0m\n\u001b[0m\u001b[1;32m      2\u001b[0m \u001b[0;34m\u001b[0m\u001b[0m\n\u001b[1;32m      3\u001b[0m \u001b[0mmax_star\u001b[0m \u001b[0;34m=\u001b[0m \u001b[0mdf\u001b[0m\u001b[0;34m[\u001b[0m\u001b[0mdf\u001b[0m\u001b[0;34m[\u001b[0m\u001b[0;34m'성능점수'\u001b[0m\u001b[0;34m]\u001b[0m \u001b[0;34m==\u001b[0m \u001b[0mscore\u001b[0m\u001b[0;34m]\u001b[0m\u001b[0;34m[\u001b[0m\u001b[0;34m'별점'\u001b[0m\u001b[0;34m]\u001b[0m\u001b[0;34m.\u001b[0m\u001b[0mmax\u001b[0m\u001b[0;34m(\u001b[0m\u001b[0;34m)\u001b[0m\u001b[0;34m\u001b[0m\u001b[0;34m\u001b[0m\u001b[0m\n\u001b[1;32m      4\u001b[0m \u001b[0mdf\u001b[0m\u001b[0;34m[\u001b[0m\u001b[0;34m(\u001b[0m\u001b[0mdf\u001b[0m\u001b[0;34m[\u001b[0m\u001b[0;34m'성능점수'\u001b[0m\u001b[0;34m]\u001b[0m \u001b[0;34m==\u001b[0m \u001b[0mscore\u001b[0m\u001b[0;34m)\u001b[0m \u001b[0;34m&\u001b[0m \u001b[0;34m(\u001b[0m\u001b[0mdf\u001b[0m\u001b[0;34m[\u001b[0m\u001b[0;34m'별점'\u001b[0m\u001b[0;34m]\u001b[0m \u001b[0;34m==\u001b[0m \u001b[0mmax_star\u001b[0m\u001b[0;34m)\u001b[0m\u001b[0;34m]\u001b[0m\u001b[0;34m.\u001b[0m\u001b[0m상품명\u001b[0m\u001b[0;34m\u001b[0m\u001b[0;34m\u001b[0m\u001b[0m\n",
      "\u001b[0;31mNameError\u001b[0m: name 'le' is not defined"
     ]
    }
   ],
   "source": [
    "score = le.inverse_transform(pipe.predict([X_test.iloc[0]]))[0]\n",
    "\n",
    "max_star = df[df['성능점수'] == score]['별점'].max()\n",
    "df[(df['성능점수'] == score) & (df['별점'] == max_star)].상품명"
   ]
  },
  {
   "cell_type": "code",
   "execution_count": 27,
   "id": "5b9ed6ed",
   "metadata": {
    "ExecuteTime": {
     "end_time": "2022-11-02T18:51:12.386674Z",
     "start_time": "2022-11-02T18:51:12.364113Z"
    }
   },
   "outputs": [],
   "source": [
    "import pickle\n",
    "\n",
    "with open('model/monitor_score.pkl','wb') as pickle_file:\n",
    "    pickle.dump(pipe, pickle_file)\n",
    "    \n",
    "with open('model/labelencoding.pkl','wb') as pickle_file:\n",
    "    pickle.dump(le, pickle_file)"
   ]
  }
 ],
 "metadata": {
  "kernelspec": {
   "display_name": "Python 3 (ipykernel)",
   "language": "python",
   "name": "python3"
  },
  "language_info": {
   "codemirror_mode": {
    "name": "ipython",
    "version": 3
   },
   "file_extension": ".py",
   "mimetype": "text/x-python",
   "name": "python",
   "nbconvert_exporter": "python",
   "pygments_lexer": "ipython3",
   "version": "3.7.10"
  },
  "toc": {
   "base_numbering": 1,
   "nav_menu": {},
   "number_sections": false,
   "sideBar": true,
   "skip_h1_title": false,
   "title_cell": "Table of Contents",
   "title_sidebar": "Contents",
   "toc_cell": false,
   "toc_position": {},
   "toc_section_display": true,
   "toc_window_display": false
  }
 },
 "nbformat": 4,
 "nbformat_minor": 5
}
